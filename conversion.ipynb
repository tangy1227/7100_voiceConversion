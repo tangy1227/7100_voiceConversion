{
 "cells": [
  {
   "cell_type": "code",
   "execution_count": 1,
   "metadata": {},
   "outputs": [
    {
     "name": "stdout",
     "output_type": "stream",
     "text": [
      "dict_keys(['model', 'optimizer'])\n"
     ]
    },
    {
     "ename": "FileNotFoundError",
     "evalue": "[Errno 2] No such file or directory: 'metadata.pkl'",
     "output_type": "error",
     "traceback": [
      "\u001b[0;31m---------------------------------------------------------------------------\u001b[0m",
      "\u001b[0;31mFileNotFoundError\u001b[0m                         Traceback (most recent call last)",
      "\u001b[1;32m/home/ytang363/7100_voiceConversion/conversion.ipynb Cell 1\u001b[0m line \u001b[0;36m2\n\u001b[1;32m     <a href='vscode-notebook-cell://ssh-remote%2B130.207.59.29/home/ytang363/7100_voiceConversion/conversion.ipynb#W0sdnNjb2RlLXJlbW90ZQ%3D%3D?line=22'>23</a>\u001b[0m G\u001b[39m.\u001b[39mload_state_dict(g_checkpoint[\u001b[39m'\u001b[39m\u001b[39mmodel\u001b[39m\u001b[39m'\u001b[39m])\n\u001b[1;32m     <a href='vscode-notebook-cell://ssh-remote%2B130.207.59.29/home/ytang363/7100_voiceConversion/conversion.ipynb#W0sdnNjb2RlLXJlbW90ZQ%3D%3D?line=24'>25</a>\u001b[0m \u001b[39m# metadata contains [filename, speaker embedding, spectrogram]\u001b[39;00m\n\u001b[0;32m---> <a href='vscode-notebook-cell://ssh-remote%2B130.207.59.29/home/ytang363/7100_voiceConversion/conversion.ipynb#W0sdnNjb2RlLXJlbW90ZQ%3D%3D?line=25'>26</a>\u001b[0m metadata \u001b[39m=\u001b[39m pickle\u001b[39m.\u001b[39mload(\u001b[39mopen\u001b[39;49m(\u001b[39m'\u001b[39;49m\u001b[39mmetadata.pkl\u001b[39;49m\u001b[39m'\u001b[39;49m, \u001b[39m\"\u001b[39;49m\u001b[39mrb\u001b[39;49m\u001b[39m\"\u001b[39;49m))\n\u001b[1;32m     <a href='vscode-notebook-cell://ssh-remote%2B130.207.59.29/home/ytang363/7100_voiceConversion/conversion.ipynb#W0sdnNjb2RlLXJlbW90ZQ%3D%3D?line=26'>27</a>\u001b[0m spect_vc \u001b[39m=\u001b[39m []   \n",
      "File \u001b[0;32m~/miniconda3/envs/conda_env/lib/python3.8/site-packages/IPython/core/interactiveshell.py:282\u001b[0m, in \u001b[0;36m_modified_open\u001b[0;34m(file, *args, **kwargs)\u001b[0m\n\u001b[1;32m    275\u001b[0m \u001b[39mif\u001b[39;00m file \u001b[39min\u001b[39;00m {\u001b[39m0\u001b[39m, \u001b[39m1\u001b[39m, \u001b[39m2\u001b[39m}:\n\u001b[1;32m    276\u001b[0m     \u001b[39mraise\u001b[39;00m \u001b[39mValueError\u001b[39;00m(\n\u001b[1;32m    277\u001b[0m         \u001b[39mf\u001b[39m\u001b[39m\"\u001b[39m\u001b[39mIPython won\u001b[39m\u001b[39m'\u001b[39m\u001b[39mt let you open fd=\u001b[39m\u001b[39m{\u001b[39;00mfile\u001b[39m}\u001b[39;00m\u001b[39m by default \u001b[39m\u001b[39m\"\u001b[39m\n\u001b[1;32m    278\u001b[0m         \u001b[39m\"\u001b[39m\u001b[39mas it is likely to crash IPython. If you know what you are doing, \u001b[39m\u001b[39m\"\u001b[39m\n\u001b[1;32m    279\u001b[0m         \u001b[39m\"\u001b[39m\u001b[39myou can use builtins\u001b[39m\u001b[39m'\u001b[39m\u001b[39m open.\u001b[39m\u001b[39m\"\u001b[39m\n\u001b[1;32m    280\u001b[0m     )\n\u001b[0;32m--> 282\u001b[0m \u001b[39mreturn\u001b[39;00m io_open(file, \u001b[39m*\u001b[39;49margs, \u001b[39m*\u001b[39;49m\u001b[39m*\u001b[39;49mkwargs)\n",
      "\u001b[0;31mFileNotFoundError\u001b[0m: [Errno 2] No such file or directory: 'metadata.pkl'"
     ]
    }
   ],
   "source": [
    "import os\n",
    "import pickle\n",
    "import torch\n",
    "import numpy as np\n",
    "from math import ceil\n",
    "from model_vc import Generator\n",
    "\n",
    "\n",
    "def pad_seq(x, base=32):\n",
    "    len_out = int(base * ceil(float(x.shape[0])/base))\n",
    "    len_pad = len_out - x.shape[0]\n",
    "    assert len_pad >= 0\n",
    "    return np.pad(x, ((0,len_pad),(0,0)), 'constant'), len_pad\n",
    "\n",
    "# device = 'cuda:0'\n",
    "device = 0\n",
    "# G = Generator(32,256,512,32).eval().to(device)\n",
    "G = Generator(16,256,512,16).eval().to(device) # change the dimension to the same as model config from parser\n",
    "\n",
    "autovc_model = '/home/ytang363/7100_voiceConversion/trained_model.ckpt'\n",
    "g_checkpoint = torch.load(autovc_model, map_location=torch.device(device))\n",
    "print(g_checkpoint.keys())\n",
    "G.load_state_dict(g_checkpoint['model'])\n",
    "\n",
    "# metadata contains [filename, speaker embedding, spectrogram]\n",
    "metadata = pickle.load(open('metadata.pkl', \"rb\"))\n",
    "spect_vc = []   "
   ]
  },
  {
   "cell_type": "code",
   "execution_count": 2,
   "metadata": {},
   "outputs": [
    {
     "name": "stdout",
     "output_type": "stream",
     "text": [
      "p225\n",
      "(96, 80)\n",
      "torch.Size([1, 96, 80])\n",
      "p228\n",
      "(96, 80)\n",
      "torch.Size([1, 96, 80])\n",
      "p256\n",
      "(96, 80)\n",
      "torch.Size([1, 96, 80])\n",
      "p270\n",
      "(128, 80)\n",
      "torch.Size([1, 128, 80])\n"
     ]
    }
   ],
   "source": [
    "for sbmt_i in metadata:\n",
    "    print(sbmt_i[0])\n",
    "\n",
    "    x_org = sbmt_i[2] # spectrogram\n",
    "    x_org, len_pad = pad_seq(x_org)\n",
    "    print(x_org.shape)\n",
    "\n",
    "    uttr_org = torch.from_numpy(x_org[np.newaxis, :, :]).to(device) # spectrogram\n",
    "    emb_org = torch.from_numpy(sbmt_i[1][np.newaxis, :]).to(device) # speaker embedding\n",
    "    print(uttr_org.shape)\n",
    "    \n",
    "    for sbmt_j in metadata:\n",
    "        # print(sbmt_j)\n",
    "\n",
    "        emb_trg = torch.from_numpy(sbmt_j[1][np.newaxis, :]).to(device)\n",
    "        \n",
    "        with torch.no_grad():\n",
    "            _, x_identic_psnt, _ = G(uttr_org, emb_org, emb_trg)\n",
    "            \n",
    "        if len_pad == 0:\n",
    "            uttr_trg = x_identic_psnt[0, 0, :, :].cpu().numpy()\n",
    "        else: # excluding a padding portion\n",
    "            uttr_trg = x_identic_psnt[0, 0, :-len_pad, :].cpu().numpy()\n",
    "        \n",
    "        spect_vc.append( ('{}x{}'.format(sbmt_i[0], sbmt_j[0]), uttr_trg) )\n",
    "        # print(spect_vc)\n",
    "        \n",
    "with open('results.pkl', 'wb') as handle:\n",
    "    pickle.dump(spect_vc, handle)       "
   ]
  },
  {
   "cell_type": "code",
   "execution_count": 3,
   "metadata": {},
   "outputs": [
    {
     "name": "stdout",
     "output_type": "stream",
     "text": [
      "p225xp225\n",
      "(90, 80)\n",
      "p225xp228\n",
      "(90, 80)\n",
      "p225xp256\n",
      "(90, 80)\n",
      "p225xp270\n",
      "(90, 80)\n",
      "p228xp225\n",
      "(89, 80)\n",
      "p228xp228\n",
      "(89, 80)\n",
      "p228xp256\n",
      "(89, 80)\n",
      "p228xp270\n",
      "(89, 80)\n",
      "p256xp225\n",
      "(75, 80)\n",
      "p256xp228\n",
      "(75, 80)\n",
      "p256xp256\n",
      "(75, 80)\n",
      "p256xp270\n",
      "(75, 80)\n",
      "p270xp225\n",
      "(109, 80)\n",
      "p270xp228\n",
      "(109, 80)\n",
      "p270xp256\n",
      "(109, 80)\n",
      "p270xp270\n",
      "(109, 80)\n"
     ]
    }
   ],
   "source": [
    "res = pickle.load(open('results.pkl', \"rb\"))\n",
    "for i in res:\n",
    "    print(i[0])\n",
    "    print(i[1].shape)"
   ]
  }
 ],
 "metadata": {
  "kernelspec": {
   "display_name": "Python 3",
   "language": "python",
   "name": "python3"
  },
  "language_info": {
   "codemirror_mode": {
    "name": "ipython",
    "version": 3
   },
   "file_extension": ".py",
   "mimetype": "text/x-python",
   "name": "python",
   "nbconvert_exporter": "python",
   "pygments_lexer": "ipython3",
   "version": "3.8.13"
  }
 },
 "nbformat": 4,
 "nbformat_minor": 4
}
