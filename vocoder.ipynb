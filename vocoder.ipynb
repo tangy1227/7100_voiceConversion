{
 "cells": [
  {
   "cell_type": "code",
   "execution_count": 1,
   "metadata": {},
   "outputs": [
    {
     "name": "stdout",
     "output_type": "stream",
     "text": [
      "p225xp225\n"
     ]
    },
    {
     "name": "stderr",
     "output_type": "stream",
     "text": [
      "100%|██████████| 23040/23040 [02:32<00:00, 151.29it/s]\n"
     ]
    },
    {
     "name": "stdout",
     "output_type": "stream",
     "text": [
      "p225xp228\n"
     ]
    },
    {
     "name": "stderr",
     "output_type": "stream",
     "text": [
      "100%|██████████| 23040/23040 [02:30<00:00, 153.46it/s]\n"
     ]
    },
    {
     "name": "stdout",
     "output_type": "stream",
     "text": [
      "p225xp256\n"
     ]
    },
    {
     "name": "stderr",
     "output_type": "stream",
     "text": [
      " 19%|█▊        | 4313/23040 [00:28<02:03, 152.09it/s]\n"
     ]
    },
    {
     "ename": "KeyboardInterrupt",
     "evalue": "",
     "output_type": "error",
     "traceback": [
      "\u001b[0;31m---------------------------------------------------------------------------\u001b[0m",
      "\u001b[0;31mKeyboardInterrupt\u001b[0m                         Traceback (most recent call last)",
      "\u001b[1;32m/home/ytang363/7100_voiceConversion/vocoder.ipynb Cell 1\u001b[0m line \u001b[0;36m1\n\u001b[1;32m     <a href='vscode-notebook-cell://ssh-remote%2B130.207.59.29/home/ytang363/7100_voiceConversion/vocoder.ipynb#W0sdnNjb2RlLXJlbW90ZQ%3D%3D?line=15'>16</a>\u001b[0m c \u001b[39m=\u001b[39m spect[\u001b[39m1\u001b[39m]\n\u001b[1;32m     <a href='vscode-notebook-cell://ssh-remote%2B130.207.59.29/home/ytang363/7100_voiceConversion/vocoder.ipynb#W0sdnNjb2RlLXJlbW90ZQ%3D%3D?line=16'>17</a>\u001b[0m \u001b[39mprint\u001b[39m(name)\n\u001b[0;32m---> <a href='vscode-notebook-cell://ssh-remote%2B130.207.59.29/home/ytang363/7100_voiceConversion/vocoder.ipynb#W0sdnNjb2RlLXJlbW90ZQ%3D%3D?line=17'>18</a>\u001b[0m waveform \u001b[39m=\u001b[39m wavegen(model, c\u001b[39m=\u001b[39;49mc)   \n\u001b[1;32m     <a href='vscode-notebook-cell://ssh-remote%2B130.207.59.29/home/ytang363/7100_voiceConversion/vocoder.ipynb#W0sdnNjb2RlLXJlbW90ZQ%3D%3D?line=18'>19</a>\u001b[0m sf\u001b[39m.\u001b[39mwrite(name\u001b[39m+\u001b[39m\u001b[39m'\u001b[39m\u001b[39m.wav\u001b[39m\u001b[39m'\u001b[39m, waveform, samplerate\u001b[39m=\u001b[39m\u001b[39m16000\u001b[39m)\n",
      "File \u001b[0;32m~/7100_voiceConversion/synthesis.py:67\u001b[0m, in \u001b[0;36mwavegen\u001b[0;34m(model, c, tqdm)\u001b[0m\n\u001b[1;32m     64\u001b[0m c \u001b[39m=\u001b[39m \u001b[39mNone\u001b[39;00m \u001b[39mif\u001b[39;00m c \u001b[39mis\u001b[39;00m \u001b[39mNone\u001b[39;00m \u001b[39melse\u001b[39;00m c\u001b[39m.\u001b[39mto(device)\n\u001b[1;32m     66\u001b[0m \u001b[39mwith\u001b[39;00m torch\u001b[39m.\u001b[39mno_grad():\n\u001b[0;32m---> 67\u001b[0m     y_hat \u001b[39m=\u001b[39m model\u001b[39m.\u001b[39;49mincremental_forward(\n\u001b[1;32m     68\u001b[0m         initial_input, c\u001b[39m=\u001b[39;49mc, g\u001b[39m=\u001b[39;49m\u001b[39mNone\u001b[39;49;00m, T\u001b[39m=\u001b[39;49mlength, tqdm\u001b[39m=\u001b[39;49mtqdm, softmax\u001b[39m=\u001b[39;49m\u001b[39mTrue\u001b[39;49;00m, quantize\u001b[39m=\u001b[39;49m\u001b[39mTrue\u001b[39;49;00m,\n\u001b[1;32m     69\u001b[0m         log_scale_min\u001b[39m=\u001b[39;49mhparams\u001b[39m.\u001b[39;49mlog_scale_min)\n\u001b[1;32m     71\u001b[0m y_hat \u001b[39m=\u001b[39m y_hat\u001b[39m.\u001b[39mview(\u001b[39m-\u001b[39m\u001b[39m1\u001b[39m)\u001b[39m.\u001b[39mcpu()\u001b[39m.\u001b[39mdata\u001b[39m.\u001b[39mnumpy()\n\u001b[1;32m     73\u001b[0m \u001b[39mreturn\u001b[39;00m y_hat\n",
      "File \u001b[0;32m~/miniconda3/envs/conda_env/lib/python3.8/site-packages/wavenet_vocoder/wavenet.py:352\u001b[0m, in \u001b[0;36mWaveNet.incremental_forward\u001b[0;34m(self, initial_input, c, g, T, test_inputs, tqdm, softmax, quantize, log_scale_min)\u001b[0m\n\u001b[1;32m    350\u001b[0m \u001b[39m# Generate next input by sampling\u001b[39;00m\n\u001b[1;32m    351\u001b[0m \u001b[39mif\u001b[39;00m \u001b[39mself\u001b[39m\u001b[39m.\u001b[39mscalar_input:\n\u001b[0;32m--> 352\u001b[0m     x \u001b[39m=\u001b[39m sample_from_discretized_mix_logistic(\n\u001b[1;32m    353\u001b[0m         x\u001b[39m.\u001b[39;49mview(B, \u001b[39m-\u001b[39;49m\u001b[39m1\u001b[39;49m, \u001b[39m1\u001b[39;49m), log_scale_min\u001b[39m=\u001b[39;49mlog_scale_min)\n\u001b[1;32m    354\u001b[0m \u001b[39melse\u001b[39;00m:\n\u001b[1;32m    355\u001b[0m     x \u001b[39m=\u001b[39m F\u001b[39m.\u001b[39msoftmax(x\u001b[39m.\u001b[39mview(B, \u001b[39m-\u001b[39m\u001b[39m1\u001b[39m), dim\u001b[39m=\u001b[39m\u001b[39m1\u001b[39m) \u001b[39mif\u001b[39;00m softmax \u001b[39melse\u001b[39;00m x\u001b[39m.\u001b[39mview(B, \u001b[39m-\u001b[39m\u001b[39m1\u001b[39m)\n",
      "File \u001b[0;32m~/miniconda3/envs/conda_env/lib/python3.8/site-packages/wavenet_vocoder/mixture.py:149\u001b[0m, in \u001b[0;36msample_from_discretized_mix_logistic\u001b[0;34m(y, log_scale_min)\u001b[0m\n\u001b[1;32m    146\u001b[0m \u001b[39m# sample from logistic & clip to interval\u001b[39;00m\n\u001b[1;32m    147\u001b[0m \u001b[39m# we don't actually round to the nearest 8bit value when sampling\u001b[39;00m\n\u001b[1;32m    148\u001b[0m u \u001b[39m=\u001b[39m means\u001b[39m.\u001b[39mdata\u001b[39m.\u001b[39mnew(means\u001b[39m.\u001b[39msize())\u001b[39m.\u001b[39muniform_(\u001b[39m1e-5\u001b[39m, \u001b[39m1.0\u001b[39m \u001b[39m-\u001b[39m \u001b[39m1e-5\u001b[39m)\n\u001b[0;32m--> 149\u001b[0m x \u001b[39m=\u001b[39m means \u001b[39m+\u001b[39m torch\u001b[39m.\u001b[39mexp(log_scales) \u001b[39m*\u001b[39m (torch\u001b[39m.\u001b[39mlog(u) \u001b[39m-\u001b[39m torch\u001b[39m.\u001b[39mlog(\u001b[39m1.\u001b[39;49m \u001b[39m-\u001b[39;49m u))\n\u001b[1;32m    151\u001b[0m x \u001b[39m=\u001b[39m torch\u001b[39m.\u001b[39mclamp(torch\u001b[39m.\u001b[39mclamp(x, \u001b[39mmin\u001b[39m\u001b[39m=\u001b[39m\u001b[39m-\u001b[39m\u001b[39m1.\u001b[39m), \u001b[39mmax\u001b[39m\u001b[39m=\u001b[39m\u001b[39m1.\u001b[39m)\n\u001b[1;32m    153\u001b[0m \u001b[39mreturn\u001b[39;00m x\n",
      "File \u001b[0;32m~/miniconda3/envs/conda_env/lib/python3.8/site-packages/torch/_tensor.py:39\u001b[0m, in \u001b[0;36m_handle_torch_function_and_wrap_type_error_to_not_implemented.<locals>.wrapped\u001b[0;34m(*args, **kwargs)\u001b[0m\n\u001b[1;32m     37\u001b[0m     \u001b[39mif\u001b[39;00m has_torch_function(args):\n\u001b[1;32m     38\u001b[0m         \u001b[39mreturn\u001b[39;00m handle_torch_function(wrapped, args, \u001b[39m*\u001b[39margs, \u001b[39m*\u001b[39m\u001b[39m*\u001b[39mkwargs)\n\u001b[0;32m---> 39\u001b[0m     \u001b[39mreturn\u001b[39;00m f(\u001b[39m*\u001b[39;49margs, \u001b[39m*\u001b[39;49m\u001b[39m*\u001b[39;49mkwargs)\n\u001b[1;32m     40\u001b[0m \u001b[39mexcept\u001b[39;00m \u001b[39mTypeError\u001b[39;00m:\n\u001b[1;32m     41\u001b[0m     \u001b[39mreturn\u001b[39;00m \u001b[39mNotImplemented\u001b[39m\n",
      "File \u001b[0;32m~/miniconda3/envs/conda_env/lib/python3.8/site-packages/torch/_tensor.py:834\u001b[0m, in \u001b[0;36mTensor.__rsub__\u001b[0;34m(self, other)\u001b[0m\n\u001b[1;32m    832\u001b[0m \u001b[39m@_handle_torch_function_and_wrap_type_error_to_not_implemented\u001b[39m\n\u001b[1;32m    833\u001b[0m \u001b[39mdef\u001b[39;00m \u001b[39m__rsub__\u001b[39m(\u001b[39mself\u001b[39m, other):\n\u001b[0;32m--> 834\u001b[0m     \u001b[39mreturn\u001b[39;00m _C\u001b[39m.\u001b[39;49m_VariableFunctions\u001b[39m.\u001b[39;49mrsub(\u001b[39mself\u001b[39;49m, other)\n",
      "\u001b[0;31mKeyboardInterrupt\u001b[0m: "
     ]
    }
   ],
   "source": [
    "import torch\n",
    "import soundfile as sf\n",
    "import pickle\n",
    "from synthesis import build_model\n",
    "from synthesis import wavegen\n",
    "\n",
    "spect_vc = pickle.load(open('/home/ytang363/7100_voiceConversion/results.pkl', 'rb'))\n",
    "device = torch.device(\"cuda\")\n",
    "model = build_model().to(device)\n",
    "pretrain_vocoder = '/home/ytang363/7100_voiceConversion/pretrain/checkpoint_step001000000_ema.pth'\n",
    "checkpoint = torch.load(pretrain_vocoder)\n",
    "model.load_state_dict(checkpoint[\"state_dict\"])\n",
    "\n",
    "for spect in spect_vc:\n",
    "    name = spect[0]\n",
    "    c = spect[1]\n",
    "    print(name)\n",
    "    waveform = wavegen(model, c=c)   \n",
    "    sf.write(name+'.wav', waveform, samplerate=16000)"
   ]
  }
 ],
 "metadata": {
  "kernelspec": {
   "display_name": "Python 3",
   "language": "python",
   "name": "python3"
  },
  "language_info": {
   "codemirror_mode": {
    "name": "ipython",
    "version": 3
   },
   "file_extension": ".py",
   "mimetype": "text/x-python",
   "name": "python",
   "nbconvert_exporter": "python",
   "pygments_lexer": "ipython3",
   "version": "3.8.13"
  }
 },
 "nbformat": 4,
 "nbformat_minor": 4
}
