{
 "cells": [
  {
   "cell_type": "markdown",
   "metadata": {},
   "source": [
    "# WaveNet Vocoder"
   ]
  },
  {
   "cell_type": "code",
   "execution_count": 2,
   "metadata": {},
   "outputs": [
    {
     "name": "stderr",
     "output_type": "stream",
     "text": [
      "/home/ytang363/.local/lib/python3.8/site-packages/torch/nn/utils/weight_norm.py:30: UserWarning: torch.nn.utils.weight_norm is deprecated in favor of torch.nn.utils.parametrizations.weight_norm.\n",
      "  warnings.warn(\"torch.nn.utils.weight_norm is deprecated in favor of torch.nn.utils.parametrizations.weight_norm.\")\n"
     ]
    },
    {
     "name": "stdout",
     "output_type": "stream",
     "text": [
      "p225xp225\n"
     ]
    },
    {
     "name": "stderr",
     "output_type": "stream",
     "text": [
      " 16%|█▌        | 5161/33024 [00:47<04:18, 107.87it/s]\n"
     ]
    },
    {
     "ename": "KeyboardInterrupt",
     "evalue": "",
     "output_type": "error",
     "traceback": [
      "\u001b[0;31m---------------------------------------------------------------------------\u001b[0m",
      "\u001b[0;31mKeyboardInterrupt\u001b[0m                         Traceback (most recent call last)",
      "\u001b[1;32m/home/ytang363/7100_voiceConversion/vocoder.ipynb Cell 1\u001b[0m line \u001b[0;36m1\n\u001b[1;32m     <a href='vscode-notebook-cell://ssh-remote%2B130.207.59.29/home/ytang363/7100_voiceConversion/vocoder.ipynb#W0sdnNjb2RlLXJlbW90ZQ%3D%3D?line=15'>16</a>\u001b[0m c \u001b[39m=\u001b[39m spect[\u001b[39m1\u001b[39m]\n\u001b[1;32m     <a href='vscode-notebook-cell://ssh-remote%2B130.207.59.29/home/ytang363/7100_voiceConversion/vocoder.ipynb#W0sdnNjb2RlLXJlbW90ZQ%3D%3D?line=16'>17</a>\u001b[0m \u001b[39mprint\u001b[39m(name)\n\u001b[0;32m---> <a href='vscode-notebook-cell://ssh-remote%2B130.207.59.29/home/ytang363/7100_voiceConversion/vocoder.ipynb#W0sdnNjb2RlLXJlbW90ZQ%3D%3D?line=17'>18</a>\u001b[0m waveform \u001b[39m=\u001b[39m wavegen(model, c\u001b[39m=\u001b[39;49mc)\n\u001b[1;32m     <a href='vscode-notebook-cell://ssh-remote%2B130.207.59.29/home/ytang363/7100_voiceConversion/vocoder.ipynb#W0sdnNjb2RlLXJlbW90ZQ%3D%3D?line=18'>19</a>\u001b[0m \u001b[39mprint\u001b[39m(waveform\u001b[39m.\u001b[39mshape)\n\u001b[1;32m     <a href='vscode-notebook-cell://ssh-remote%2B130.207.59.29/home/ytang363/7100_voiceConversion/vocoder.ipynb#W0sdnNjb2RlLXJlbW90ZQ%3D%3D?line=19'>20</a>\u001b[0m sf\u001b[39m.\u001b[39mwrite(name\u001b[39m+\u001b[39m\u001b[39m'\u001b[39m\u001b[39m.wav\u001b[39m\u001b[39m'\u001b[39m, waveform, samplerate\u001b[39m=\u001b[39m\u001b[39m16000\u001b[39m)\n",
      "File \u001b[0;32m~/7100_voiceConversion/synthesis.py:65\u001b[0m, in \u001b[0;36mwavegen\u001b[0;34m(model, c, tqdm)\u001b[0m\n\u001b[1;32m     62\u001b[0m c \u001b[39m=\u001b[39m \u001b[39mNone\u001b[39;00m \u001b[39mif\u001b[39;00m c \u001b[39mis\u001b[39;00m \u001b[39mNone\u001b[39;00m \u001b[39melse\u001b[39;00m c\u001b[39m.\u001b[39mto(device)\n\u001b[1;32m     64\u001b[0m \u001b[39mwith\u001b[39;00m torch\u001b[39m.\u001b[39mno_grad():\n\u001b[0;32m---> 65\u001b[0m     y_hat \u001b[39m=\u001b[39m model\u001b[39m.\u001b[39;49mincremental_forward(\n\u001b[1;32m     66\u001b[0m         initial_input, c\u001b[39m=\u001b[39;49mc, g\u001b[39m=\u001b[39;49m\u001b[39mNone\u001b[39;49;00m, T\u001b[39m=\u001b[39;49mlength, tqdm\u001b[39m=\u001b[39;49mtqdm, softmax\u001b[39m=\u001b[39;49m\u001b[39mTrue\u001b[39;49;00m, quantize\u001b[39m=\u001b[39;49m\u001b[39mTrue\u001b[39;49;00m,\n\u001b[1;32m     67\u001b[0m         log_scale_min\u001b[39m=\u001b[39;49mhparams\u001b[39m.\u001b[39;49mlog_scale_min)\n\u001b[1;32m     69\u001b[0m y_hat \u001b[39m=\u001b[39m y_hat\u001b[39m.\u001b[39mview(\u001b[39m-\u001b[39m\u001b[39m1\u001b[39m)\u001b[39m.\u001b[39mcpu()\u001b[39m.\u001b[39mdata\u001b[39m.\u001b[39mnumpy()\n\u001b[1;32m     71\u001b[0m \u001b[39mreturn\u001b[39;00m y_hat\n",
      "File \u001b[0;32m~/.local/lib/python3.8/site-packages/wavenet_vocoder/wavenet.py:338\u001b[0m, in \u001b[0;36mWaveNet.incremental_forward\u001b[0;34m(self, initial_input, c, g, T, test_inputs, tqdm, softmax, quantize, log_scale_min)\u001b[0m\n\u001b[1;32m    336\u001b[0m skips \u001b[39m=\u001b[39m \u001b[39mNone\u001b[39;00m\n\u001b[1;32m    337\u001b[0m \u001b[39mfor\u001b[39;00m f \u001b[39min\u001b[39;00m \u001b[39mself\u001b[39m\u001b[39m.\u001b[39mconv_layers:\n\u001b[0;32m--> 338\u001b[0m     x, h \u001b[39m=\u001b[39m f\u001b[39m.\u001b[39;49mincremental_forward(x, ct, gt)\n\u001b[1;32m    339\u001b[0m     \u001b[39mif\u001b[39;00m \u001b[39mself\u001b[39m\u001b[39m.\u001b[39mlegacy:\n\u001b[1;32m    340\u001b[0m         skips \u001b[39m=\u001b[39m h \u001b[39mif\u001b[39;00m skips \u001b[39mis\u001b[39;00m \u001b[39mNone\u001b[39;00m \u001b[39melse\u001b[39;00m (skips \u001b[39m+\u001b[39m h) \u001b[39m*\u001b[39m math\u001b[39m.\u001b[39msqrt(\u001b[39m0.5\u001b[39m)\n",
      "File \u001b[0;32m~/.local/lib/python3.8/site-packages/wavenet_vocoder/modules.py:135\u001b[0m, in \u001b[0;36mResidualConv1dGLU.incremental_forward\u001b[0;34m(self, x, c, g)\u001b[0m\n\u001b[1;32m    134\u001b[0m \u001b[39mdef\u001b[39;00m \u001b[39mincremental_forward\u001b[39m(\u001b[39mself\u001b[39m, x, c\u001b[39m=\u001b[39m\u001b[39mNone\u001b[39;00m, g\u001b[39m=\u001b[39m\u001b[39mNone\u001b[39;00m):\n\u001b[0;32m--> 135\u001b[0m     \u001b[39mreturn\u001b[39;00m \u001b[39mself\u001b[39;49m\u001b[39m.\u001b[39;49m_forward(x, c, g, \u001b[39mTrue\u001b[39;49;00m)\n",
      "File \u001b[0;32m~/.local/lib/python3.8/site-packages/wavenet_vocoder/modules.py:153\u001b[0m, in \u001b[0;36mResidualConv1dGLU._forward\u001b[0;34m(self, x, c, g, is_incremental)\u001b[0m\n\u001b[1;32m    151\u001b[0m \u001b[39mif\u001b[39;00m is_incremental:\n\u001b[1;32m    152\u001b[0m     splitdim \u001b[39m=\u001b[39m \u001b[39m-\u001b[39m\u001b[39m1\u001b[39m\n\u001b[0;32m--> 153\u001b[0m     x \u001b[39m=\u001b[39m \u001b[39mself\u001b[39;49m\u001b[39m.\u001b[39;49mconv\u001b[39m.\u001b[39;49mincremental_forward(x)\n\u001b[1;32m    154\u001b[0m \u001b[39melse\u001b[39;00m:\n\u001b[1;32m    155\u001b[0m     splitdim \u001b[39m=\u001b[39m \u001b[39m1\u001b[39m\n",
      "File \u001b[0;32m~/.local/lib/python3.8/site-packages/wavenet_vocoder/conv.py:44\u001b[0m, in \u001b[0;36mConv1d.incremental_forward\u001b[0;34m(self, input)\u001b[0m\n\u001b[1;32m     42\u001b[0m     \u001b[39minput\u001b[39m \u001b[39m=\u001b[39m \u001b[39mself\u001b[39m\u001b[39m.\u001b[39minput_buffer\n\u001b[1;32m     43\u001b[0m     \u001b[39mif\u001b[39;00m dilation \u001b[39m>\u001b[39m \u001b[39m1\u001b[39m:\n\u001b[0;32m---> 44\u001b[0m         \u001b[39minput\u001b[39m \u001b[39m=\u001b[39m \u001b[39minput\u001b[39;49m[:, \u001b[39m0\u001b[39;49m::dilation, :]\u001b[39m.\u001b[39mcontiguous()\n\u001b[1;32m     45\u001b[0m output \u001b[39m=\u001b[39m F\u001b[39m.\u001b[39mlinear(\u001b[39minput\u001b[39m\u001b[39m.\u001b[39mview(bsz, \u001b[39m-\u001b[39m\u001b[39m1\u001b[39m), weight, \u001b[39mself\u001b[39m\u001b[39m.\u001b[39mbias)\n\u001b[1;32m     46\u001b[0m \u001b[39mreturn\u001b[39;00m output\u001b[39m.\u001b[39mview(bsz, \u001b[39m1\u001b[39m, \u001b[39m-\u001b[39m\u001b[39m1\u001b[39m)\n",
      "\u001b[0;31mKeyboardInterrupt\u001b[0m: "
     ]
    }
   ],
   "source": [
    "import torch\n",
    "import soundfile as sf\n",
    "import pickle\n",
    "from synthesis import build_model\n",
    "from synthesis import wavegen\n",
    "\n",
    "spect_vc = pickle.load(open('/home/ytang363/7100_voiceConversion/results/001_baseline-results.pkl', 'rb'))\n",
    "device = torch.device(\"cuda\")\n",
    "model = build_model().to(device)\n",
    "pretrain_vocoder = '/home/ytang363/7100_voiceConversion/pretrain/checkpoint_step001000000_ema.pth'\n",
    "checkpoint = torch.load(pretrain_vocoder)\n",
    "model.load_state_dict(checkpoint[\"state_dict\"])\n",
    "\n",
    "for spect in spect_vc:\n",
    "    name = spect[0]\n",
    "    c = spect[1]\n",
    "    print(name)\n",
    "    waveform = wavegen(model, c=c)\n",
    "    print(waveform.shape)\n",
    "    sf.write(name+'.wav', waveform, samplerate=16000)"
   ]
  },
  {
   "cell_type": "markdown",
   "metadata": {},
   "source": [
    "# HifiGAN Vocoder Inference\n",
    "python hifiGAN_inference_e2e.py --checkpoint_file '/home/ytang363/7100_voiceConversion/pretrain/HifiGAN-g_03280000-autoVC' --input_mels_dir '/home/ytang363/7100_voiceConversion/results/002_results.pkl' --config_dir '/home/ytang363/7100_voiceConversion/hifiGAN_config-V1.json'"
   ]
  },
  {
   "cell_type": "markdown",
   "metadata": {},
   "source": [
    "python ./vocoder-HifiGAN/hifiGAN_inference_e2e.py --checkpoint_file '/home/ytang363/7100_voiceConversion/pretrain/HifiGAN-g_03280000-autoVC' --input_mels_dir '/home/ytang363/7100_voiceConversion/results/11-02_author_results.pkl' --config_dir '/home/ytang363/7100_voiceConversion/vocoder-HifiGAN/hifiGAN_config-V1.json' --output_dir '11-02_author_results'"
   ]
  },
  {
   "cell_type": "markdown",
   "metadata": {},
   "source": [
    "python ./vocoder-HifiGAN//hifiGAN_inference_e2e.py --checkpoint_file '/home/ytang363/7100_voiceConversion/pretrain/HifiGAN-g_03280000-autoVC' --input_mels_dir '/home/ytang363/7100_voiceConversion/002_retrained-results.pkl' --config_dir '/home/ytang363/7100_voiceConversion/vocoder-HifiGAN/hifiGAN_config-V1.json' --output_dir 'xvec_result'"
   ]
  }
 ],
 "metadata": {
  "kernelspec": {
   "display_name": "Python 3",
   "language": "python",
   "name": "python3"
  },
  "language_info": {
   "codemirror_mode": {
    "name": "ipython",
    "version": 3
   },
   "file_extension": ".py",
   "mimetype": "text/x-python",
   "name": "python",
   "nbconvert_exporter": "python",
   "pygments_lexer": "ipython3",
   "version": "3.8.11"
  }
 },
 "nbformat": 4,
 "nbformat_minor": 4
}
