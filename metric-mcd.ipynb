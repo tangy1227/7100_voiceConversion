{
 "cells": [
  {
   "cell_type": "code",
   "execution_count": 2,
   "metadata": {},
   "outputs": [],
   "source": [
    "import os\n",
    "import pickle\n",
    "import torch\n",
    "import numpy as np\n",
    "from math import ceil\n",
    "from model_vc import Generator\n",
    "import librosa\n",
    "import librosa.display\n",
    "import matplotlib.pyplot as plt\n",
    "\n",
    "import math\n",
    "import glob\n",
    "\n",
    "baseline = pickle.load(open('/home/ytang363/7100_voiceConversion/results/002_baseline-results.pkl', \"rb\"))\n",
    "retrain = pickle.load(open('/home/ytang363/7100_voiceConversion/results/002_results.pkl', \"rb\"))"
   ]
  },
  {
   "cell_type": "code",
   "execution_count": 3,
   "metadata": {},
   "outputs": [],
   "source": [
    "# function: https://dsp.stackexchange.com/questions/56391/mel-cepstral-distortion\n",
    "def log_spec_dB_dist(x, y):\n",
    "    log_spec_dB_const = 10.0 / math.log(10.0) * math.sqrt(2.0)\n",
    "    diff = x - y\n",
    "    return log_spec_dB_const * math.sqrt(np.inner(diff, diff))\n",
    "\n",
    "cost_function = log_spec_dB_dist"
   ]
  },
  {
   "cell_type": "code",
   "execution_count": 4,
   "metadata": {},
   "outputs": [
    {
     "name": "stdout",
     "output_type": "stream",
     "text": [
      "Processing speaker: p225\n",
      "p225_002_mic1.npy\n",
      "Processing speaker: p226\n",
      "p226_002_mic1.npy\n",
      "Processing speaker: p227\n",
      "p227_002_mic1.npy\n",
      "Processing speaker: p228\n",
      "p228_002_mic1.npy\n",
      "Processing speaker: p229\n",
      "p229_002_mic1.npy\n",
      "Processing speaker: p230\n",
      "p230_002_mic1.npy\n",
      "Processing speaker: p231\n",
      "p231_002_mic1.npy\n",
      "Processing speaker: p232\n",
      "p232_002_mic1.npy\n",
      "Processing speaker: p233\n",
      "p233_002_mic1.npy\n",
      "Processing speaker: p234\n",
      "p234_002_mic1.npy\n",
      "Processing speaker: p237\n",
      "p237_002_mic1.npy\n"
     ]
    }
   ],
   "source": [
    "# Load ground truth utterance\n",
    "rootDir = '/home/ytang363/7100_voiceConversion/VCTK-Corpus-0.92/spmel-16k'\n",
    "dirName, subdirList, _ = next(os.walk(rootDir))\n",
    "process_speakers = ['p225', 'p226', 'p227', 'p228', 'p229', 'p230', 'p231', 'p232', 'p233', 'p234', 'p237']\n",
    "process_uttr = '002'\n",
    "speakers = []\n",
    "gt = {}\n",
    "\n",
    "for speaker in sorted(subdirList):\n",
    "    if speaker not in process_speakers:\n",
    "        continue\n",
    "\n",
    "    print('Processing speaker: %s' % speaker)\n",
    "    _, _, fileList = next(os.walk(os.path.join(dirName,speaker)))\n",
    "\n",
    "    indices = [i for i, element in enumerate(fileList) if process_uttr in element]\n",
    "    print(fileList[indices[0]]) \n",
    "\n",
    "    spec = np.load(os.path.join(dirName, speaker, fileList[indices[0]]))\n",
    "\n",
    "    gt[speaker] = spec"
   ]
  },
  {
   "cell_type": "code",
   "execution_count": 5,
   "metadata": {},
   "outputs": [],
   "source": [
    "# Loop for evaluation\n",
    "def avg_mcd(gen_mel):\n",
    "    total_diff = 0\n",
    "    for i in range(len(process_speakers)):\n",
    "        current = gen_mel[i][0].split('x')[1]\n",
    "        test_uttr = gen_mel[i][1] # for p225-001, the shape is (129,80)\n",
    "        gt_uttr = gt[current]\n",
    "\n",
    "        min_cost, _ = librosa.sequence.dtw(gt_uttr[:, 1:].T, test_uttr[:, 1:].T, \n",
    "                                            metric=cost_function)  \n",
    "        print(gt_uttr.shape)\n",
    "        print(test_uttr.shape)\n",
    "        print(gt_uttr[:, 1:].shape)\n",
    "        print('----')                                                                            \n",
    "        diff = np.mean(min_cost) / gt_uttr.shape[0]\n",
    "        total_diff += diff\n",
    "    avg_MCD = total_diff / len(process_speakers)\n",
    "    return avg_MCD       "
   ]
  },
  {
   "cell_type": "code",
   "execution_count": 6,
   "metadata": {},
   "outputs": [
    {
     "name": "stdout",
     "output_type": "stream",
     "text": [
      "(247, 80)\n",
      "(247, 80)\n",
      "(247, 79)\n",
      "----\n",
      "(270, 80)\n",
      "(247, 80)\n",
      "(270, 79)\n",
      "----\n",
      "(267, 80)\n",
      "(247, 80)\n",
      "(267, 79)\n",
      "----\n",
      "(308, 80)\n",
      "(247, 80)\n",
      "(308, 79)\n",
      "----\n",
      "(243, 80)\n",
      "(247, 80)\n",
      "(243, 79)\n",
      "----\n",
      "(279, 80)\n",
      "(247, 80)\n",
      "(279, 79)\n",
      "----\n",
      "(203, 80)\n",
      "(247, 80)\n",
      "(203, 79)\n",
      "----\n",
      "(193, 80)\n",
      "(247, 80)\n",
      "(193, 79)\n",
      "----\n",
      "(283, 80)\n",
      "(247, 80)\n",
      "(283, 79)\n",
      "----\n",
      "(249, 80)\n",
      "(247, 80)\n",
      "(249, 79)\n",
      "----\n",
      "(264, 80)\n",
      "(247, 80)\n",
      "(264, 79)\n",
      "----\n"
     ]
    },
    {
     "data": {
      "text/plain": [
       "4.640020417134696"
      ]
     },
     "execution_count": 6,
     "metadata": {},
     "output_type": "execute_result"
    }
   ],
   "source": [
    "avg_mcd(baseline)"
   ]
  },
  {
   "cell_type": "code",
   "execution_count": 7,
   "metadata": {},
   "outputs": [
    {
     "name": "stdout",
     "output_type": "stream",
     "text": [
      "(247, 80)\n",
      "(247, 80)\n",
      "(247, 79)\n",
      "----\n",
      "(270, 80)\n",
      "(247, 80)\n",
      "(270, 79)\n",
      "----\n",
      "(267, 80)\n",
      "(247, 80)\n",
      "(267, 79)\n",
      "----\n",
      "(308, 80)\n",
      "(247, 80)\n",
      "(308, 79)\n",
      "----\n",
      "(243, 80)\n",
      "(247, 80)\n",
      "(243, 79)\n",
      "----\n",
      "(279, 80)\n",
      "(247, 80)\n",
      "(279, 79)\n",
      "----\n",
      "(203, 80)\n",
      "(247, 80)\n",
      "(203, 79)\n",
      "----\n",
      "(193, 80)\n",
      "(247, 80)\n",
      "(193, 79)\n",
      "----\n",
      "(283, 80)\n",
      "(247, 80)\n",
      "(283, 79)\n",
      "----\n",
      "(249, 80)\n",
      "(247, 80)\n",
      "(249, 79)\n",
      "----\n",
      "(264, 80)\n",
      "(247, 80)\n",
      "(264, 79)\n",
      "----\n"
     ]
    },
    {
     "data": {
      "text/plain": [
       "4.486204718444406"
      ]
     },
     "execution_count": 7,
     "metadata": {},
     "output_type": "execute_result"
    }
   ],
   "source": [
    "avg_mcd(retrain)"
   ]
  }
 ],
 "metadata": {
  "kernelspec": {
   "display_name": "conda_env",
   "language": "python",
   "name": "python3"
  },
  "language_info": {
   "codemirror_mode": {
    "name": "ipython",
    "version": 3
   },
   "file_extension": ".py",
   "mimetype": "text/x-python",
   "name": "python",
   "nbconvert_exporter": "python",
   "pygments_lexer": "ipython3",
   "version": "3.8.18"
  }
 },
 "nbformat": 4,
 "nbformat_minor": 2
}
