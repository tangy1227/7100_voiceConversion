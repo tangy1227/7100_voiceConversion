{
 "cells": [
  {
   "cell_type": "code",
   "execution_count": 2,
   "metadata": {},
   "outputs": [],
   "source": [
    "import os\n",
    "import pickle\n",
    "import torch\n",
    "import numpy as np\n",
    "from math import ceil\n",
    "from model_vc import Generator\n",
    "import librosa\n",
    "import librosa.display\n",
    "import matplotlib.pyplot as plt\n",
    "\n",
    "import math\n",
    "import glob\n",
    "\n",
    "baseline = pickle.load(open('/home/ytang363/7100_voiceConversion/results/other/002_baseline-results.pkl', \"rb\"))\n",
    "retrain = pickle.load(open('/home/ytang363/7100_voiceConversion/results/other/002_results.pkl', \"rb\"))"
   ]
  },
  {
   "cell_type": "code",
   "execution_count": 3,
   "metadata": {},
   "outputs": [],
   "source": [
    "# function: https://dsp.stackexchange.com/questions/56391/mel-cepstral-distortion\n",
    "# paper: https://www.cs.cmu.edu/~awb/papers/sltu2008/kominek_black.sltu_2008.pdf\n",
    "def log_spec_dB_dist(x, y):\n",
    "    log_spec_dB_const = 10.0 / math.log(10.0) * math.sqrt(2.0)\n",
    "    diff = x - y\n",
    "    return log_spec_dB_const * math.sqrt(np.inner(diff, diff))\n",
    "\n",
    "cost_function = log_spec_dB_dist"
   ]
  },
  {
   "cell_type": "code",
   "execution_count": 4,
   "metadata": {},
   "outputs": [],
   "source": [
    "# Load ground truth utterance\n",
    "rootDir = '/home/ytang363/7100_voiceConversion/VCTK-Corpus-0.92/spmel-16k'\n",
    "dirName, subdirList, _ = next(os.walk(rootDir))\n",
    "process_speakers = ['p225', 'p226', 'p227', 'p228', 'p229', 'p230', 'p231', 'p232', 'p233', 'p234', 'p237']\n",
    "process_speakers = ['p231', 'p243', 'p272', 'p279', 'p314', 'p339'] # test spk list\n",
    "process_uttr = '002'\n",
    "gt = {}\n",
    "\n",
    "def load_ground_truth(root_dir, process_speakers, process_uttr):\n",
    "    gt = {}\n",
    "\n",
    "    for speaker in sorted(os.listdir(root_dir)):\n",
    "        if speaker not in process_speakers:\n",
    "            continue\n",
    "\n",
    "        # print('Processing speaker: %s' % speaker)\n",
    "        speaker_dir = os.path.join(root_dir, speaker)\n",
    "        _, _, file_list = next(os.walk(speaker_dir))\n",
    "\n",
    "        indices = [i for i, element in enumerate(file_list) if process_uttr in element]\n",
    "        if indices:\n",
    "            print(file_list[indices[0]])\n",
    "\n",
    "            spec = np.load(os.path.join(speaker_dir, file_list[indices[0]]))\n",
    "            gt[speaker] = spec\n",
    "        else:\n",
    "            print(f\"No matching file found for {process_uttr} in {speaker}\")\n",
    "\n",
    "    return gt"
   ]
  },
  {
   "cell_type": "code",
   "execution_count": 5,
   "metadata": {},
   "outputs": [],
   "source": [
    "# Loop for evaluation\n",
    "def avg_mcd(gen_mel, process_uttr):\n",
    "\n",
    "    root_dir = '/home/ytang363/7100_voiceConversion/VCTK-Corpus-0.92/spmel-16k'\n",
    "    process_speakers = ['p231', 'p243', 'p272', 'p279', 'p314', 'p339']\n",
    "    gt = load_ground_truth(root_dir, process_speakers, process_uttr)\n",
    "\n",
    "    total_diff = 0\n",
    "    for i in range(len(process_speakers)):\n",
    "        current = gen_mel[i][0].split('x')[1]\n",
    "        test_uttr = gen_mel[i][1] \n",
    "        gt_uttr = gt[current]\n",
    "\n",
    "        print(gt_uttr.shape, test_uttr.shape)\n",
    "        print(gt_uttr.T.shape, test_uttr.T.shape)\n",
    "        \n",
    "        min_cost, _ = librosa.sequence.dtw(gt_uttr[:, 1:].T, test_uttr[:, 1:].T, metric=cost_function)\n",
    "        # min_cost, _ = librosa.sequence.dtw(gt_uttr, test_uttr, metric=cost_function)  \n",
    "        print(gt_uttr.shape)\n",
    "        print(test_uttr.shape)\n",
    "        print('-' * 10)                                                                            \n",
    "        diff = np.mean(min_cost) / gt_uttr.shape[0]\n",
    "        total_diff += diff\n",
    "    avg_MCD = total_diff / len(process_speakers)\n",
    "    return avg_MCD       "
   ]
  },
  {
   "cell_type": "code",
   "execution_count": 12,
   "metadata": {},
   "outputs": [
    {
     "name": "stdout",
     "output_type": "stream",
     "text": [
      "p231_275_mic1.npy\n",
      "p243_275_mic1.npy\n",
      "p272_275_mic1.npy\n",
      "p279_275_mic1.npy\n",
      "p314_275_mic1.npy\n",
      "p339_275_mic1.npy\n",
      "(185, 80) (185, 80)\n",
      "(80, 185) (80, 185)\n",
      "(185, 80)\n",
      "(185, 80)\n",
      "----------\n",
      "(257, 80) (185, 80)\n",
      "(80, 257) (80, 185)\n",
      "(257, 80)\n",
      "(185, 80)\n",
      "----------\n",
      "(131, 80) (185, 80)\n",
      "(80, 131) (80, 185)\n",
      "(131, 80)\n",
      "(185, 80)\n",
      "----------\n",
      "(107, 80) (185, 80)\n",
      "(80, 107) (80, 185)\n",
      "(107, 80)\n",
      "(185, 80)\n",
      "----------\n",
      "(190, 80) (185, 80)\n",
      "(80, 190) (80, 185)\n",
      "(190, 80)\n",
      "(185, 80)\n",
      "----------\n",
      "(217, 80) (185, 80)\n",
      "(80, 217) (80, 185)\n",
      "(217, 80)\n",
      "(185, 80)\n",
      "----------\n"
     ]
    },
    {
     "data": {
      "text/plain": [
       "5.0766050918357974"
      ]
     },
     "execution_count": 12,
     "metadata": {},
     "output_type": "execute_result"
    }
   ],
   "source": [
    "model = 'res_32'\n",
    "uttr = '275'\n",
    "epoch = '1500k'\n",
    "\n",
    "path = f'/home/ytang363/7100_voiceConversion/results/result_test/{model}/{uttr}_{model}_{epoch}-results.pkl'\n",
    "result = pickle.load(open(path, \"rb\"))\n",
    "avg_mcd(result, uttr)"
   ]
  },
  {
   "cell_type": "code",
   "execution_count": 7,
   "metadata": {},
   "outputs": [
    {
     "name": "stdout",
     "output_type": "stream",
     "text": [
      "1.26.4\n"
     ]
    }
   ],
   "source": [
    "print(np.__version__) # old numpy version 1.24.4"
   ]
  },
  {
   "cell_type": "code",
   "execution_count": 13,
   "metadata": {},
   "outputs": [
    {
     "data": {
      "text/plain": [
       "4.324233333333333"
      ]
     },
     "execution_count": 13,
     "metadata": {},
     "output_type": "execute_result"
    }
   ],
   "source": [
    "vec = [ 4.1677,\n",
    "4.0212,\n",
    "4.283,\n",
    "4.4987,\n",
    "5.0766,\n",
    "3.8982\n",
    "]\n",
    "np.mean(vec)"
   ]
  }
 ],
 "metadata": {
  "kernelspec": {
   "display_name": "conda_env",
   "language": "python",
   "name": "python3"
  },
  "language_info": {
   "codemirror_mode": {
    "name": "ipython",
    "version": 3
   },
   "file_extension": ".py",
   "mimetype": "text/x-python",
   "name": "python",
   "nbconvert_exporter": "python",
   "pygments_lexer": "ipython3",
   "version": "3.10.13"
  }
 },
 "nbformat": 4,
 "nbformat_minor": 2
}
