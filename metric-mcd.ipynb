{
 "cells": [
  {
   "cell_type": "code",
   "execution_count": 1,
   "metadata": {},
   "outputs": [],
   "source": [
    "import os\n",
    "import pickle\n",
    "import torch\n",
    "import numpy as np\n",
    "from math import ceil\n",
    "from model_vc import Generator\n",
    "import librosa\n",
    "import librosa.display\n",
    "import matplotlib.pyplot as plt\n",
    "\n",
    "import math\n",
    "import glob\n",
    "\n",
    "baseline = pickle.load(open('/home/ytang363/7100_voiceConversion/results/other/002_baseline-results.pkl', \"rb\"))\n",
    "retrain = pickle.load(open('/home/ytang363/7100_voiceConversion/results/other/002_results.pkl', \"rb\"))"
   ]
  },
  {
   "cell_type": "code",
   "execution_count": 2,
   "metadata": {},
   "outputs": [],
   "source": [
    "# function: https://dsp.stackexchange.com/questions/56391/mel-cepstral-distortion\n",
    "# paper: https://www.cs.cmu.edu/~awb/papers/sltu2008/kominek_black.sltu_2008.pdf\n",
    "def log_spec_dB_dist(x, y):\n",
    "    log_spec_dB_const = 10.0 / math.log(10.0) * math.sqrt(2.0)\n",
    "    diff = x - y\n",
    "    return log_spec_dB_const * math.sqrt(np.inner(diff, diff))\n",
    "\n",
    "cost_function = log_spec_dB_dist"
   ]
  },
  {
   "cell_type": "code",
   "execution_count": 26,
   "metadata": {},
   "outputs": [],
   "source": [
    "# Load ground truth utterance\n",
    "rootDir = '/home/ytang363/7100_voiceConversion/VCTK-Corpus-0.92/spmel-16k'\n",
    "dirName, subdirList, _ = next(os.walk(rootDir))\n",
    "process_speakers = ['p225', 'p226', 'p227', 'p228', 'p229', 'p230', 'p231', 'p232', 'p233', 'p234', 'p237']\n",
    "process_speakers = ['p231', 'p243', 'p272', 'p279', 'p314', 'p339'] # test spk list\n",
    "process_uttr = '002'\n",
    "gt = {}\n",
    "\n",
    "def load_ground_truth(root_dir, process_speakers, process_uttr):\n",
    "    gt = {}\n",
    "\n",
    "    for speaker in sorted(os.listdir(root_dir)):\n",
    "        if speaker not in process_speakers:\n",
    "            continue\n",
    "\n",
    "        # print('Processing speaker: %s' % speaker)\n",
    "        speaker_dir = os.path.join(root_dir, speaker)\n",
    "        _, _, file_list = next(os.walk(speaker_dir))\n",
    "\n",
    "        indices = [i for i, element in enumerate(file_list) if process_uttr in element]\n",
    "        if indices:\n",
    "            # print(file_list[indices[0]])\n",
    "\n",
    "            spec = np.load(os.path.join(speaker_dir, file_list[indices[0]]))\n",
    "            gt[speaker] = spec\n",
    "        else:\n",
    "            print(f\"No matching file found for {process_uttr} in {speaker}\")\n",
    "\n",
    "    return gt"
   ]
  },
  {
   "cell_type": "code",
   "execution_count": 28,
   "metadata": {},
   "outputs": [
    {
     "name": "stdout",
     "output_type": "stream",
     "text": [
      "p231_002_mic1.npy\n",
      "p243_002_mic1.npy\n",
      "p272_002_mic1.npy\n",
      "p279_002_mic1.npy\n",
      "p314_002_mic1.npy\n",
      "p339_002_mic1.npy\n",
      "[[0.28922337 0.24593271 0.28133246 ... 0.08991615 0.09623022 0.13954744]\n",
      " [0.3377047  0.2721712  0.27639952 ... 0.11681776 0.11884069 0.1440672 ]\n",
      " [0.28450346 0.21124572 0.22405548 ... 0.11624847 0.13566953 0.14374927]\n",
      " ...\n",
      " [0.3382661  0.32426816 0.3094556  ... 0.13447708 0.13646671 0.15258858]\n",
      " [0.3541582  0.26836008 0.2695249  ... 0.1429984  0.1387596  0.15416202]\n",
      " [0.32086536 0.21788931 0.19367324 ... 0.13083658 0.15112409 0.12400024]]\n",
      "3.93278272439286\n",
      "[[0.28922337 0.24593271 0.28133246 ... 0.08991615 0.09623022 0.13954744]\n",
      " [0.3377047  0.2721712  0.27639952 ... 0.11681776 0.11884069 0.1440672 ]\n",
      " [0.28450346 0.21124572 0.22405548 ... 0.11624847 0.13566953 0.14374927]\n",
      " ...\n",
      " [0.3382661  0.32426816 0.3094556  ... 0.13447708 0.13646671 0.15258858]\n",
      " [0.3541582  0.26836008 0.2695249  ... 0.1429984  0.1387596  0.15416202]\n",
      " [0.32086536 0.21788931 0.19367324 ... 0.13083658 0.15112409 0.12400024]]\n",
      "3.93278272439286\n"
     ]
    }
   ],
   "source": [
    "## one-to-one file testing\n",
    "# root_dir = '/home/ytang363/7100_voiceConversion/VCTK-Corpus-0.92/spmel-16k'\n",
    "# process_speakers = ['p231', 'p243', 'p272', 'p279', 'p314', 'p339']\n",
    "# process_uttr = '002'\n",
    "# gt = load_ground_truth(root_dir, process_speakers, process_uttr)\n",
    "\n",
    "\n",
    "# model = 'retrained'\n",
    "# uttr = '002'\n",
    "# epoch = '1500k'\n",
    "# path = f'/home/ytang363/7100_voiceConversion/results/result_test/{model}/{uttr}_{model}_{epoch}-results.pkl'\n",
    "# gen_mel = pickle.load(open(path, \"rb\"))\n",
    "# for i in range(len(gen_mel)):\n",
    "#     source = gen_mel[i][0].split('x')[0]\n",
    "#     target = gen_mel[i][0].split('x')[1]\n",
    "#     if source == 'p231' and target == 'p314':\n",
    "#         test_uttr = gen_mel[i][1] \n",
    "#         gt_uttr = gt[target]\n",
    "#         print(gt_uttr)\n",
    "#         min_cost, _ = librosa.sequence.dtw(gt_uttr[:, 1:].T, test_uttr[:, 1:].T, metric=cost_function)\n",
    "#         diff = np.mean(min_cost) / gt_uttr.shape[0]\n",
    "#         print(diff)\n",
    "\n"
   ]
  },
  {
   "cell_type": "code",
   "execution_count": 27,
   "metadata": {},
   "outputs": [],
   "source": [
    "# Loop for evaluation\n",
    "def avg_mcd(gen_mel, process_uttr):\n",
    "\n",
    "    root_dir = '/home/ytang363/7100_voiceConversion/VCTK-Corpus-0.92/spmel-16k'\n",
    "    process_speakers = ['p231', 'p243', 'p272', 'p279', 'p314', 'p339']\n",
    "    gt = load_ground_truth(root_dir, process_speakers, process_uttr)\n",
    "\n",
    "    total_diff = 0\n",
    "    for i in range(len(gen_mel)):\n",
    "        current = gen_mel[i][0].split('x')[1]\n",
    "        test_uttr = gen_mel[i][1] \n",
    "        gt_uttr = gt[current]\n",
    "        \n",
    "        # print(gt_uttr.shape, test_uttr.shape)\n",
    "        # print(gt_uttr.T.shape, test_uttr.T.shape)\n",
    "        \n",
    "        min_cost, _ = librosa.sequence.dtw(gt_uttr[:, 1:].T, test_uttr[:, 1:].T, metric=cost_function)\n",
    "        # min_cost, _ = librosa.sequence.dtw(gt_uttr, test_uttr, metric=cost_function)  \n",
    "                                                                        \n",
    "        diff = np.mean(min_cost) / gt_uttr.shape[0]\n",
    "        total_diff += diff\n",
    "    avg_MCD = total_diff / len(gen_mel)\n",
    "    return avg_MCD       "
   ]
  },
  {
   "cell_type": "code",
   "execution_count": 57,
   "metadata": {},
   "outputs": [
    {
     "name": "stdout",
     "output_type": "stream",
     "text": [
      "[4.420105172670446, 4.432421147432169, 5.100983954867524, 5.308216613445744, 5.003276782775714, 4.874895282939123]\n"
     ]
    }
   ],
   "source": [
    "model = 'res_32'\n",
    "epoch = '2250k' # 1500k\n",
    "# uttr = '390'\n",
    "uttrs = ['002','010','050','150','275','390']\n",
    "res = []\n",
    "\n",
    "for uttr in uttrs:\n",
    "    path = f'/home/ytang363/7100_voiceConversion/results/result_test/{model}/{uttr}_{model}_{epoch}-results.pkl'\n",
    "    # path = f'/home/ytang363/7100_voiceConversion/results/result_test/baseline/{uttr}_baseline-results.pkl'\n",
    "    result = pickle.load(open(path, \"rb\"))\n",
    "    mcd = avg_mcd(result, uttr)\n",
    "    res.append(mcd)\n",
    "print(res)"
   ]
  },
  {
   "cell_type": "code",
   "execution_count": 58,
   "metadata": {},
   "outputs": [
    {
     "name": "stdout",
     "output_type": "stream",
     "text": [
      "[4.4201, 4.4324, 5.101, 5.3082, 5.0033, 4.8749] 4.856649999999999\n"
     ]
    }
   ],
   "source": [
    "rounded_res = [round(x, 4) for x in res]\n",
    "mean = np.mean(rounded_res)\n",
    "print(rounded_res, mean)"
   ]
  }
 ],
 "metadata": {
  "kernelspec": {
   "display_name": "conda_env",
   "language": "python",
   "name": "python3"
  },
  "language_info": {
   "codemirror_mode": {
    "name": "ipython",
    "version": 3
   },
   "file_extension": ".py",
   "mimetype": "text/x-python",
   "name": "python",
   "nbconvert_exporter": "python",
   "pygments_lexer": "ipython3",
   "version": "3.10.13"
  }
 },
 "nbformat": 4,
 "nbformat_minor": 2
}
