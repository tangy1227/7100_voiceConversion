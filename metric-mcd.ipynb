{
 "cells": [
  {
   "cell_type": "code",
   "execution_count": 1,
   "metadata": {},
   "outputs": [],
   "source": [
    "import os\n",
    "import pickle\n",
    "import torch\n",
    "import numpy as np\n",
    "from math import ceil\n",
    "from model_vc import Generator\n",
    "import librosa\n",
    "import librosa.display\n",
    "import matplotlib.pyplot as plt\n",
    "\n",
    "import math\n",
    "import glob\n",
    "\n",
    "baseline = pickle.load(open('/home/ytang363/7100_voiceConversion/results/002_baseline-results.pkl', \"rb\"))\n",
    "retrain = pickle.load(open('/home/ytang363/7100_voiceConversion/results/002_results.pkl', \"rb\"))"
   ]
  },
  {
   "cell_type": "code",
   "execution_count": 24,
   "metadata": {},
   "outputs": [],
   "source": [
    "# function: https://dsp.stackexchange.com/questions/56391/mel-cepstral-distortion\n",
    "# paper: https://www.cs.cmu.edu/~awb/papers/sltu2008/kominek_black.sltu_2008.pdf\n",
    "def log_spec_dB_dist(x, y):\n",
    "    log_spec_dB_const = 10.0 / math.log(10.0) * math.sqrt(2.0)\n",
    "    diff = x - y\n",
    "    return log_spec_dB_const * math.sqrt(np.inner(diff, diff))\n",
    "\n",
    "cost_function = log_spec_dB_dist"
   ]
  },
  {
   "cell_type": "code",
   "execution_count": 18,
   "metadata": {},
   "outputs": [],
   "source": [
    "# Load ground truth utterance\n",
    "rootDir = '/home/ytang363/7100_voiceConversion/VCTK-Corpus-0.92/spmel-16k'\n",
    "dirName, subdirList, _ = next(os.walk(rootDir))\n",
    "process_speakers = ['p225', 'p226', 'p227', 'p228', 'p229', 'p230', 'p231', 'p232', 'p233', 'p234', 'p237']\n",
    "process_speakers = ['p231', 'p243', 'p272', 'p279', 'p314', 'p339'] # test spk list\n",
    "process_uttr = '002'\n",
    "gt = {}\n",
    "\n",
    "def load_ground_truth(root_dir, process_speakers, process_uttr):\n",
    "    gt = {}\n",
    "\n",
    "    for speaker in sorted(os.listdir(root_dir)):\n",
    "        if speaker not in process_speakers:\n",
    "            continue\n",
    "\n",
    "        # print('Processing speaker: %s' % speaker)\n",
    "        speaker_dir = os.path.join(root_dir, speaker)\n",
    "        _, _, file_list = next(os.walk(speaker_dir))\n",
    "\n",
    "        indices = [i for i, element in enumerate(file_list) if process_uttr in element]\n",
    "        if indices:\n",
    "            print(file_list[indices[0]])\n",
    "\n",
    "            spec = np.load(os.path.join(speaker_dir, file_list[indices[0]]))\n",
    "            gt[speaker] = spec\n",
    "        else:\n",
    "            print(f\"No matching file found for {process_uttr} in {speaker}\")\n",
    "\n",
    "    return gt"
   ]
  },
  {
   "cell_type": "code",
   "execution_count": 22,
   "metadata": {},
   "outputs": [],
   "source": [
    "# Loop for evaluation\n",
    "def avg_mcd(gen_mel, process_uttr):\n",
    "\n",
    "    root_dir = '/home/ytang363/7100_voiceConversion/VCTK-Corpus-0.92/spmel-16k'\n",
    "    process_speakers = ['p231', 'p243', 'p272', 'p279', 'p314', 'p339']\n",
    "    gt = load_ground_truth(root_dir, process_speakers, process_uttr)\n",
    "\n",
    "    total_diff = 0\n",
    "    for i in range(len(process_speakers)):\n",
    "        current = gen_mel[i][0].split('x')[1]\n",
    "        test_uttr = gen_mel[i][1] \n",
    "        gt_uttr = gt[current]\n",
    "\n",
    "        print(gt_uttr.shape, test_uttr.shape)\n",
    "        print(gt_uttr.T.shape, test_uttr.T.shape)\n",
    "        \n",
    "        min_cost, _ = librosa.sequence.dtw(gt_uttr[:, 1:].T, test_uttr[:, 1:].T, metric=cost_function)\n",
    "        # min_cost, _ = librosa.sequence.dtw(gt_uttr, test_uttr, metric=cost_function)  \n",
    "        print(gt_uttr.shape)\n",
    "        print(test_uttr.shape)\n",
    "        print('-' * 10)                                                                            \n",
    "        diff = np.mean(min_cost) / gt_uttr.shape[0]\n",
    "        total_diff += diff\n",
    "    avg_MCD = total_diff / len(process_speakers)\n",
    "    return avg_MCD       "
   ]
  },
  {
   "cell_type": "code",
   "execution_count": 25,
   "metadata": {},
   "outputs": [
    {
     "name": "stdout",
     "output_type": "stream",
     "text": [
      "p231_390_mic1.npy\n",
      "p243_390_mic1.npy\n",
      "p272_390_mic1.npy\n",
      "p279_390_mic1.npy\n",
      "p314_390_mic1.npy\n",
      "p339_390_mic1.npy\n",
      "(124, 80) (124, 80)\n",
      "(80, 124) (80, 124)\n",
      "(124, 80)\n",
      "(124, 80)\n",
      "----------\n",
      "(260, 80) (124, 80)\n",
      "(80, 260) (80, 124)\n",
      "(260, 80)\n",
      "(124, 80)\n",
      "----------\n",
      "(160, 80) (124, 80)\n",
      "(80, 160) (80, 124)\n",
      "(160, 80)\n",
      "(124, 80)\n",
      "----------\n",
      "(235, 80) (124, 80)\n",
      "(80, 235) (80, 124)\n",
      "(235, 80)\n",
      "(124, 80)\n",
      "----------\n",
      "(146, 80) (124, 80)\n",
      "(80, 146) (80, 124)\n",
      "(146, 80)\n",
      "(124, 80)\n",
      "----------\n",
      "(171, 80) (124, 80)\n",
      "(80, 171) (80, 124)\n",
      "(171, 80)\n",
      "(124, 80)\n",
      "----------\n"
     ]
    },
    {
     "data": {
      "text/plain": [
       "4.104910471834074"
      ]
     },
     "execution_count": 25,
     "metadata": {},
     "output_type": "execute_result"
    }
   ],
   "source": [
    "model = 'xvec_128'\n",
    "uttr = '390'\n",
    "\n",
    "# path = f'/home/ytang363/7100_voiceConversion/result_test/{model}/{uttr}_{model}_1500k-results.pkl'\n",
    "# path = f'/home/ytang363/7100_voiceConversion/result_test/baseline/{uttr}_baseline-results.pkl'\n",
    "path = f'/home/ytang363/7100_voiceConversion/result_test/{model}/{uttr}_{model}_500k-results.pkl'\n",
    "result = pickle.load(open(path, \"rb\"))\n",
    "avg_mcd(result, uttr)"
   ]
  },
  {
   "cell_type": "code",
   "execution_count": 7,
   "metadata": {},
   "outputs": [
    {
     "name": "stdout",
     "output_type": "stream",
     "text": [
      "1.26.4\n"
     ]
    }
   ],
   "source": [
    "print(np.__version__) # old numpy version 1.24.4"
   ]
  },
  {
   "cell_type": "code",
   "execution_count": 47,
   "metadata": {},
   "outputs": [
    {
     "data": {
      "text/plain": [
       "4.551066666666666"
      ]
     },
     "execution_count": 47,
     "metadata": {},
     "output_type": "execute_result"
    }
   ],
   "source": [
    "vec = [ 4.4741,\n",
    "4.1741,\n",
    "4.7166,\n",
    "4.5462,\n",
    "5.2905,\n",
    "4.1049,\n",
    "]\n",
    "np.mean(vec)"
   ]
  }
 ],
 "metadata": {
  "kernelspec": {
   "display_name": "conda_env",
   "language": "python",
   "name": "python3"
  },
  "language_info": {
   "codemirror_mode": {
    "name": "ipython",
    "version": 3
   },
   "file_extension": ".py",
   "mimetype": "text/x-python",
   "name": "python",
   "nbconvert_exporter": "python",
   "pygments_lexer": "ipython3",
   "version": "3.10.13"
  }
 },
 "nbformat": 4,
 "nbformat_minor": 2
}
