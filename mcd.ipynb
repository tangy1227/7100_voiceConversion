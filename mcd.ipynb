{
 "cells": [
  {
   "cell_type": "code",
   "execution_count": 67,
   "metadata": {},
   "outputs": [],
   "source": [
    "import os\n",
    "import pickle\n",
    "import torch\n",
    "import numpy as np\n",
    "from math import ceil\n",
    "from model_vc import Generator\n",
    "import librosa\n",
    "import librosa.display\n",
    "import matplotlib.pyplot as plt\n",
    "\n",
    "import math\n",
    "import glob\n",
    "\n",
    "baseline = pickle.load(open('/home/ytang363/7100_voiceConversion/002_baseline-results.pkl', \"rb\"))\n",
    "retrain = pickle.load(open('/home/ytang363/7100_voiceConversion/002_results.pkl', \"rb\"))"
   ]
  },
  {
   "cell_type": "code",
   "execution_count": 68,
   "metadata": {},
   "outputs": [],
   "source": [
    "# function: https://dsp.stackexchange.com/questions/56391/mel-cepstral-distortion\n",
    "def log_spec_dB_dist(x, y):\n",
    "    log_spec_dB_const = 10.0 / math.log(10.0) * math.sqrt(2.0)\n",
    "    diff = x - y\n",
    "    return log_spec_dB_const * math.sqrt(np.inner(diff, diff))\n",
    "\n",
    "cost_function = log_spec_dB_dist"
   ]
  },
  {
   "cell_type": "code",
   "execution_count": 69,
   "metadata": {},
   "outputs": [
    {
     "name": "stdout",
     "output_type": "stream",
     "text": [
      "Processing speaker: p225\n",
      "p225_001_mic1.npy\n",
      "Processing speaker: p226\n",
      "p226_001_mic1.npy\n",
      "Processing speaker: p227\n",
      "p227_001_mic1.npy\n",
      "Processing speaker: p228\n",
      "p228_001_mic1.npy\n",
      "Processing speaker: p229\n",
      "p229_001_mic1.npy\n",
      "Processing speaker: p230\n",
      "p230_001_mic1.npy\n",
      "Processing speaker: p231\n",
      "p231_001_mic1.npy\n",
      "Processing speaker: p232\n",
      "p232_001_mic1.npy\n",
      "Processing speaker: p233\n",
      "p233_001_mic1.npy\n",
      "Processing speaker: p234\n",
      "p234_001_mic1.npy\n",
      "Processing speaker: p237\n",
      "p237_001_mic1.npy\n"
     ]
    }
   ],
   "source": [
    "# Load ground truth utterance\n",
    "rootDir = '/home/ytang363/7100_voiceConversion/VCTK-Corpus-0.92/spmel-16k'\n",
    "dirName, subdirList, _ = next(os.walk(rootDir))\n",
    "process_speakers = ['p225', 'p226', 'p227', 'p228', 'p229', 'p230', 'p231', 'p232', 'p233', 'p234', 'p237']\n",
    "process_uttr = '001'\n",
    "speakers = []\n",
    "gt = {}\n",
    "\n",
    "for speaker in sorted(subdirList):\n",
    "    if speaker not in process_speakers:\n",
    "        continue\n",
    "\n",
    "    print('Processing speaker: %s' % speaker)\n",
    "    _, _, fileList = next(os.walk(os.path.join(dirName,speaker)))\n",
    "\n",
    "    indices = [i for i, element in enumerate(fileList) if process_uttr in element]\n",
    "    print(fileList[indices[0]]) \n",
    "\n",
    "    spec = np.load(os.path.join(dirName, speaker, fileList[indices[0]]))\n",
    "\n",
    "    gt[speaker] = spec"
   ]
  },
  {
   "cell_type": "code",
   "execution_count": 70,
   "metadata": {},
   "outputs": [],
   "source": [
    "# Loop for evaluation\n",
    "def avg_mcd(gen_mel):\n",
    "    total_diff = 0\n",
    "    for i in range(len(process_speakers)):\n",
    "        current = gen_mel[i][0].split('x')[1]\n",
    "        test_uttr = gen_mel[i][1] # for p225-001, the shape is (129,80)\n",
    "        gt_uttr = gt[current]\n",
    "\n",
    "        min_cost, _ = librosa.sequence.dtw(gt_uttr[:, 1:].T, test_uttr[:, 1:].T, \n",
    "                                            metric=cost_function)  \n",
    "        print(gt_uttr.shape)\n",
    "        print(test_uttr.shape)\n",
    "        print(gt_uttr[:, 1:].shape)\n",
    "        print('----')                                                                            \n",
    "        diff = np.mean(min_cost) / gt_uttr.shape[0]\n",
    "        total_diff += diff\n",
    "    avg_MCD = total_diff / len(process_speakers)\n",
    "    return avg_MCD       "
   ]
  },
  {
   "cell_type": "code",
   "execution_count": 71,
   "metadata": {},
   "outputs": [
    {
     "name": "stdout",
     "output_type": "stream",
     "text": [
      "(129, 80)\n",
      "(247, 80)\n",
      "(129, 79)\n",
      "----\n",
      "(175, 80)\n",
      "(247, 80)\n",
      "(175, 79)\n",
      "----\n",
      "(215, 80)\n",
      "(247, 80)\n",
      "(215, 79)\n",
      "----\n",
      "(167, 80)\n",
      "(247, 80)\n",
      "(167, 79)\n",
      "----\n",
      "(131, 80)\n",
      "(247, 80)\n",
      "(131, 79)\n",
      "----\n",
      "(139, 80)\n",
      "(247, 80)\n",
      "(139, 79)\n",
      "----\n",
      "(128, 80)\n",
      "(247, 80)\n",
      "(128, 79)\n",
      "----\n",
      "(132, 80)\n",
      "(247, 80)\n",
      "(132, 79)\n",
      "----\n",
      "(164, 80)\n",
      "(247, 80)\n",
      "(164, 79)\n",
      "----\n",
      "(174, 80)\n",
      "(247, 80)\n",
      "(174, 79)\n",
      "----\n",
      "(144, 80)\n",
      "(247, 80)\n",
      "(144, 79)\n",
      "----\n"
     ]
    },
    {
     "data": {
      "text/plain": [
       "7.379201538714358"
      ]
     },
     "execution_count": 71,
     "metadata": {},
     "output_type": "execute_result"
    }
   ],
   "source": [
    "avg_mcd(baseline)"
   ]
  },
  {
   "cell_type": "code",
   "execution_count": 54,
   "metadata": {},
   "outputs": [
    {
     "data": {
      "text/plain": [
       "4.815679425487986"
      ]
     },
     "execution_count": 54,
     "metadata": {},
     "output_type": "execute_result"
    }
   ],
   "source": [
    "avg_mcd(retrain)"
   ]
  }
 ],
 "metadata": {
  "kernelspec": {
   "display_name": "conda_env",
   "language": "python",
   "name": "python3"
  },
  "language_info": {
   "codemirror_mode": {
    "name": "ipython",
    "version": 3
   },
   "file_extension": ".py",
   "mimetype": "text/x-python",
   "name": "python",
   "nbconvert_exporter": "python",
   "pygments_lexer": "ipython3",
   "version": "3.8.13"
  }
 },
 "nbformat": 4,
 "nbformat_minor": 2
}
