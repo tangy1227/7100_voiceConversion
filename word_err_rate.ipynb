{
 "cells": [
  {
   "cell_type": "markdown",
   "metadata": {},
   "source": [
    "# Word Error Rate Eval\n",
    "uttrs: 002, 010, 050, 150, 275, 390 \n",
    "\n",
    "### WER calculation example\n",
    "reference  = \"I am 32 years old and I am a software developer\" \\\n",
    "hypothesis = \"I am a 32 year old and I am as a developer\" \\\n",
    "Substitutions = 1, Insertions = 2, Deletions = 1 \\\n",
    "Number of word  = 12\n",
    "\n",
    "WER = (1 + 2 + 1) / 12 \\\n",
    "WER = 0.33\n"
   ]
  },
  {
   "cell_type": "code",
   "execution_count": 9,
   "metadata": {},
   "outputs": [],
   "source": [
    "import whisper\n",
    "import pickle\n",
    "import os\n",
    "import librosa\n",
    "import jiwer\n",
    "from tqdm import tqdm"
   ]
  },
  {
   "cell_type": "code",
   "execution_count": 30,
   "metadata": {},
   "outputs": [
    {
     "name": "stderr",
     "output_type": "stream",
     "text": [
      "Processing audio files: 100%|██████████| 36/36 [00:40<00:00,  1.11s/it]\n"
     ]
    }
   ],
   "source": [
    "uttr = '150'\n",
    "directory = f'/home/ytang363/7100_voiceConversion/audio_test/HifiGAN/res/{uttr}_res32_result'\n",
    "text_path = '/home/ytang363/7100_voiceConversion/VCTK-Corpus-0.92/txt'\n",
    "\n",
    "# config for jiwer\n",
    "transforms = jiwer.Compose(\n",
    "    [\n",
    "        jiwer.ExpandCommonEnglishContractions(),\n",
    "        jiwer.RemoveEmptyStrings(),\n",
    "        jiwer.ToLowerCase(),\n",
    "        jiwer.RemoveMultipleSpaces(),\n",
    "        jiwer.Strip(),\n",
    "        jiwer.RemovePunctuation(),\n",
    "        jiwer.ReduceToListOfListOfWords(),\n",
    "    ]\n",
    ")\n",
    "\n",
    "total = 0\n",
    "files = sorted(os.listdir(directory))\n",
    "for filename in tqdm(files, desc=\"Processing audio files\"):\n",
    "    if os.path.isfile(os.path.join(directory, filename)):\n",
    "        source = filename.split('x')[0]\n",
    "        target = filename.split('x')[1].split('.')[0]\n",
    "\n",
    "        word = os.path.join(text_path, source, f'{source}_{uttr}.txt')\n",
    "        with open(word, 'r') as file:\n",
    "            ref = file.read().strip()\n",
    "\n",
    "        audio_path = os.path.join(directory, filename)\n",
    "        audio, sampling_rate = librosa.load(audio_path)    \n",
    "        model = whisper.load_model(\"base.en\")\n",
    "        result = model.transcribe(audio, language=\"en\")\n",
    "\n",
    "        hypothesis = result[\"text\"]\n",
    "\n",
    "        wer = jiwer.wer(\n",
    "                        ref,\n",
    "                        hypothesis,\n",
    "                        truth_transform=transforms,\n",
    "                        hypothesis_transform=transforms,\n",
    "                    )        \n",
    "        total += 1 - wer"
   ]
  },
  {
   "cell_type": "code",
   "execution_count": 31,
   "metadata": {},
   "outputs": [
    {
     "data": {
      "text/plain": [
       "-0.13210978835978837"
      ]
     },
     "execution_count": 31,
     "metadata": {},
     "output_type": "execute_result"
    }
   ],
   "source": [
    "total / len(files)"
   ]
  },
  {
   "cell_type": "markdown",
   "metadata": {},
   "source": [
    "# Result\n",
    "res-002: 0.19444\n",
    "res-010: 0.27083\n",
    "res-050: 0.2039\n",
    "res-150: -0.1321\n",
    "res-275:\n",
    "res-390:"
   ]
  }
 ],
 "metadata": {
  "kernelspec": {
   "display_name": "conda_env_new",
   "language": "python",
   "name": "python3"
  },
  "language_info": {
   "codemirror_mode": {
    "name": "ipython",
    "version": 3
   },
   "file_extension": ".py",
   "mimetype": "text/x-python",
   "name": "python",
   "nbconvert_exporter": "python",
   "pygments_lexer": "ipython3",
   "version": "3.10.13"
  }
 },
 "nbformat": 4,
 "nbformat_minor": 2
}
