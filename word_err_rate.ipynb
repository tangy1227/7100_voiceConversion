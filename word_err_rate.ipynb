{
 "cells": [
  {
   "cell_type": "markdown",
   "metadata": {},
   "source": [
    "# Word Error Rate Eval\n",
    "uttrs: 002, 010, 050, 150, 275, 390 \n",
    "\n",
    "### WER calculation example\n",
    "reference  = \"I am 32 years old and I am a software developer\" \\\n",
    "hypothesis = \"I am a 32 year old and I am as a developer\" \\\n",
    "Substitutions = 1, Insertions = 2, Deletions = 1 \\\n",
    "Number of word  = 12\n",
    "\n",
    "WER = (1 + 2 + 1) / 12 \\\n",
    "WER = 0.33\n"
   ]
  },
  {
   "cell_type": "code",
   "execution_count": 60,
   "metadata": {},
   "outputs": [],
   "source": [
    "import whisper\n",
    "import os\n",
    "import librosa\n",
    "import jiwer\n",
    "from tqdm import tqdm"
   ]
  },
  {
   "cell_type": "code",
   "execution_count": 66,
   "metadata": {},
   "outputs": [],
   "source": [
    "uttr = '002'\n",
    "epoch = '1500k'\n",
    "directory = f'/home/ytang363/7100_voiceConversion/audio_test/HifiGAN/res/{uttr}_res32_{epoch}_result'\n",
    "directory = '/home/ytang363/7100_voiceConversion/audio_test/HifiGAN/res/002_res32_1500k_result'\n",
    "text_path = '/home/ytang363/7100_voiceConversion/VCTK-Corpus-0.92/txt'\n",
    "\n",
    "def WER_cal(text_path, directory, uttr):\n",
    "\n",
    "    # config for jiwer\n",
    "    transforms = jiwer.Compose(\n",
    "        [\n",
    "            jiwer.ExpandCommonEnglishContractions(),\n",
    "            jiwer.RemoveEmptyStrings(),\n",
    "            jiwer.ToLowerCase(),\n",
    "            jiwer.RemoveMultipleSpaces(),\n",
    "            jiwer.Strip(),\n",
    "            jiwer.RemovePunctuation(),\n",
    "            jiwer.ReduceToListOfListOfWords(),\n",
    "        ]\n",
    "    )\n",
    "\n",
    "    total = 0\n",
    "    files = sorted(os.listdir(directory))\n",
    "    \n",
    "    for filename in tqdm(files, desc=\"Processing audio files\"):\n",
    "        if os.path.isfile(os.path.join(directory, filename)):\n",
    "            source = filename.split('x')[0]\n",
    "            target = filename.split('x')[1].split('.')[0]\n",
    "\n",
    "            word = os.path.join(text_path, source, f'{source}_{uttr}.txt')\n",
    "            with open(word, 'r') as file:\n",
    "                ref = file.read().strip()\n",
    "\n",
    "            audio_path = os.path.join(directory, filename)\n",
    "            audio, sampling_rate = librosa.load(audio_path)    \n",
    "            model = whisper.load_model(\"base.en\")\n",
    "            result = model.transcribe(audio, language=\"en\")\n",
    "\n",
    "            hypothesis = result[\"text\"]\n",
    "\n",
    "            wer = jiwer.wer(ref, hypothesis, truth_transform=transforms, hypothesis_transform=transforms)\n",
    "            \n",
    "            # wer = jiwer.wer(ref, hypothesis)\n",
    "              \n",
    "            total += wer\n",
    "    return total / len(files)"
   ]
  },
  {
   "cell_type": "code",
   "execution_count": 69,
   "metadata": {},
   "outputs": [
    {
     "name": "stdout",
     "output_type": "stream",
     "text": [
      "002_xvec32_1500k_result\n"
     ]
    },
    {
     "name": "stderr",
     "output_type": "stream",
     "text": [
      "Processing audio files: 100%|██████████| 36/36 [00:50<00:00,  1.41s/it]\n"
     ]
    },
    {
     "name": "stdout",
     "output_type": "stream",
     "text": [
      "{'002_xvec32_1500k_result': 1.2070707070707072}\n",
      "010_xvec32_1500k_result\n"
     ]
    },
    {
     "name": "stderr",
     "output_type": "stream",
     "text": [
      "Processing audio files: 100%|██████████| 36/36 [00:40<00:00,  1.12s/it]\n"
     ]
    },
    {
     "name": "stdout",
     "output_type": "stream",
     "text": [
      "{'002_xvec32_1500k_result': 1.2070707070707072, '010_xvec32_1500k_result': 1.0104166666666667}\n",
      "050_xvec32_1500k_result\n"
     ]
    },
    {
     "name": "stderr",
     "output_type": "stream",
     "text": [
      "Processing audio files: 100%|██████████| 36/36 [00:39<00:00,  1.11s/it]\n"
     ]
    },
    {
     "name": "stdout",
     "output_type": "stream",
     "text": [
      "{'002_xvec32_1500k_result': 1.2070707070707072, '010_xvec32_1500k_result': 1.0104166666666667, '050_xvec32_1500k_result': 1.0063492063492063}\n",
      "150_xvec32_1500k_result\n"
     ]
    },
    {
     "name": "stderr",
     "output_type": "stream",
     "text": [
      "Processing audio files: 100%|██████████| 36/36 [00:46<00:00,  1.30s/it]\n"
     ]
    },
    {
     "name": "stdout",
     "output_type": "stream",
     "text": [
      "{'002_xvec32_1500k_result': 1.2070707070707072, '010_xvec32_1500k_result': 1.0104166666666667, '050_xvec32_1500k_result': 1.0063492063492063, '150_xvec32_1500k_result': 0.9765873015873014}\n",
      "275_xvec32_1500k_result\n"
     ]
    },
    {
     "name": "stderr",
     "output_type": "stream",
     "text": [
      "Processing audio files: 100%|██████████| 36/36 [00:50<00:00,  1.41s/it]\n"
     ]
    },
    {
     "name": "stdout",
     "output_type": "stream",
     "text": [
      "{'002_xvec32_1500k_result': 1.2070707070707072, '010_xvec32_1500k_result': 1.0104166666666667, '050_xvec32_1500k_result': 1.0063492063492063, '150_xvec32_1500k_result': 0.9765873015873014, '275_xvec32_1500k_result': 1.1859567901234567}\n",
      "390_xvec32_1500k_result\n"
     ]
    },
    {
     "name": "stderr",
     "output_type": "stream",
     "text": [
      "Processing audio files: 100%|██████████| 36/36 [00:48<00:00,  1.36s/it]"
     ]
    },
    {
     "name": "stdout",
     "output_type": "stream",
     "text": [
      "{'002_xvec32_1500k_result': 1.2070707070707072, '010_xvec32_1500k_result': 1.0104166666666667, '050_xvec32_1500k_result': 1.0063492063492063, '150_xvec32_1500k_result': 0.9765873015873014, '275_xvec32_1500k_result': 1.1859567901234567, '390_xvec32_1500k_result': 1.1357253086419752}\n"
     ]
    },
    {
     "name": "stderr",
     "output_type": "stream",
     "text": [
      "\n"
     ]
    }
   ],
   "source": [
    "model_directory = '/home/ytang363/7100_voiceConversion/audio_test/HifiGAN/xvec'\n",
    "text_path = '/home/ytang363/7100_voiceConversion/VCTK-Corpus-0.92/txt'\n",
    "items = sorted(os.listdir(model_directory))\n",
    "WER_dict = {}\n",
    "\n",
    "for item in items:\n",
    "    print(item)\n",
    "    uttr = item.split('_')[0]\n",
    "    directory = os.path.join(model_directory, item)\n",
    "    \n",
    "    result = WER_cal(text_path, directory, uttr)\n",
    "    WER_dict[item] = result\n",
    "    print(WER_dict)"
   ]
  },
  {
   "cell_type": "markdown",
   "metadata": {},
   "source": [
    "# Result\n",
    "{'002_res32_1500k_result': 0.8106060606060604,\n",
    " '010_res32_1500k_result': 0.7326388888888888,\n",
    " '050_res32_1500k_result': 0.7914021164021163,\n",
    " '150_res32_1500k_result': 1.0549933862433865,\n",
    " '275_res32_1500k_result': 1.0493827160493827,\n",
    " '390_res32_1500k_result': 1.1357253086419752}\n",
    "\n",
    "{'002_res32_2250k_result': 0.6742424242424243,\n",
    " '010_res32_2250k_result': 0.59375,\n",
    " '050_res32_2250k_result': 0.6999669312169312,\n",
    " '150_res32_2250k_result': 0.9378306878306878,\n",
    " '275_res32_2250k_result': 1.0501543209876543,\n",
    " '390_res32_2250k_result': 1.045679012345679}\n",
    "\n",
    "{'002_retrained_1500k_result': 0.8409090909090907,\n",
    " '010_retrained_1500k_result': 0.9756944444444444,\n",
    " '050_retrained_1500k_result': 0.9007936507936508,\n",
    " '150_retrained_1500k_result': 0.98614417989418,\n",
    " '275_retrained_1500k_result': 1.0995370370370372,\n",
    " '390_retrained_1500k_result': 1.0415895061728395}\n",
    "\n",
    "{'002_xvec32_1500k_result': 1.2070707070707072,\n",
    " '010_xvec32_1500k_result': 1.0104166666666667,\n",
    " '050_xvec32_1500k_result': 1.0063492063492063,\n",
    " '150_xvec32_1500k_result': 0.9765873015873014,\n",
    " '275_xvec32_1500k_result': 1.1859567901234567,\n",
    " '390_xvec32_1500k_result': 1.1357253086419752}"
   ]
  },
  {
   "cell_type": "code",
   "execution_count": 65,
   "metadata": {},
   "outputs": [
    {
     "name": "stdout",
     "output_type": "stream",
     "text": [
      "[['no', 'fries']]\n",
      "2.0\n",
      "sentence 1\n",
      "REF: **   fry\n",
      "HYP: no fries\n",
      "      I     S\n",
      "\n",
      "number of sentences: 1\n",
      "substitutions=1 deletions=0 insertions=1 hits=0\n",
      "\n",
      "mer=100.00%\n",
      "wil=100.00%\n",
      "wip=0.00%\n",
      "wer=200.00%\n",
      "\n"
     ]
    }
   ],
   "source": [
    "reference  = \"fry\"\n",
    "hypothesis = \"no fries\"\n",
    "\n",
    "transforms = jiwer.Compose(\n",
    "    [\n",
    "        jiwer.ExpandCommonEnglishContractions(),\n",
    "        jiwer.RemoveEmptyStrings(),\n",
    "        jiwer.ToLowerCase(),\n",
    "        jiwer.RemoveMultipleSpaces(),\n",
    "        jiwer.Strip(),\n",
    "        jiwer.RemovePunctuation(),\n",
    "        jiwer.ReduceToListOfListOfWords(),\n",
    "    ]\n",
    ")\n",
    "\n",
    "error = jiwer.wer(reference, hypothesis, truth_transform=transforms, hypothesis_transform=transforms)\n",
    "out = jiwer.process_words(reference, hypothesis)\n",
    "print(transforms(hypothesis))\n",
    "print(error)\n",
    "print(jiwer.visualize_alignment(out))"
   ]
  }
 ],
 "metadata": {
  "kernelspec": {
   "display_name": "conda_env_new",
   "language": "python",
   "name": "python3"
  },
  "language_info": {
   "codemirror_mode": {
    "name": "ipython",
    "version": 3
   },
   "file_extension": ".py",
   "mimetype": "text/x-python",
   "name": "python",
   "nbconvert_exporter": "python",
   "pygments_lexer": "ipython3",
   "version": "3.10.13"
  }
 },
 "nbformat": 4,
 "nbformat_minor": 2
}
