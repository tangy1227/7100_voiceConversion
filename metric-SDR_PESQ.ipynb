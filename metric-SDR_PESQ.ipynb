{
 "cells": [
  {
   "cell_type": "markdown",
   "metadata": {},
   "source": [
    "# SDR & PESQ Calculation"
   ]
  },
  {
   "cell_type": "code",
   "execution_count": 25,
   "metadata": {},
   "outputs": [
    {
     "name": "stdout",
     "output_type": "stream",
     "text": [
      "{'input_pesq': 4.643888473510742,\n",
      " 'input_sdr': 292.2464210364411,\n",
      " 'pesq': 1.4929397106170654,\n",
      " 'sdr': -3.4977044589426427}\n"
     ]
    }
   ],
   "source": [
    "import torch\n",
    "import torchaudio\n",
    "\n",
    "import pprint\n",
    "import numpy as np\n",
    "from asteroid.metrics import get_metrics\n",
    "\n",
    "\n",
    "original_path = '/home/ytang363/7100_voiceConversion/VCTK-Corpus-0.92/wav-16k/p225/p225_002_mic1.wav'\n",
    "hifiGAN_path = '/home/ytang363/7100_voiceConversion/generated_files_from_mel/p225xp225_generated_e2e.wav'\n",
    "autoVC_vocoder = '/home/ytang363/7100_voiceConversion/eval_audio/002_p225xp225.wav'\n",
    "\n",
    "ori_waveform, ori_sample_rate = torchaudio.load(original_path)\n",
    "clean_waveform, clean_sample_rate = ori_waveform, ori_sample_rate\n",
    "hifi_waveform, hifi_sample_rate = torchaudio.load(autoVC_vocoder) # change here\n",
    "\n",
    "# Convert the audio waveforms to PyTorch tensors\n",
    "mix = torch.tensor(ori_waveform.numpy())\n",
    "clean = torch.tensor(clean_waveform.numpy())\n",
    "est = torch.tensor(hifi_waveform.numpy())\n",
    "\n",
    "mix = ori_waveform.numpy()\n",
    "clean = clean_waveform.numpy()\n",
    "est = hifi_waveform.numpy()\n",
    "\n",
    "# Ensure the audio signals have the same length\n",
    "min_length = min(mix.shape[1], clean.shape[1], est.shape[1])\n",
    "mix = mix[:,:min_length]\n",
    "clean = clean[:,:min_length]\n",
    "est = est[:,:min_length]\n",
    "\n",
    "metrics_dict = get_metrics(mix, clean, est, sample_rate=16000,\n",
    "                            metrics_list=['sdr', 'pesq'])\n",
    "pprint.pprint(metrics_dict)"
   ]
  }
 ],
 "metadata": {
  "kernelspec": {
   "display_name": "conda_env",
   "language": "python",
   "name": "python3"
  },
  "language_info": {
   "codemirror_mode": {
    "name": "ipython",
    "version": 3
   },
   "file_extension": ".py",
   "mimetype": "text/x-python",
   "name": "python",
   "nbconvert_exporter": "python",
   "pygments_lexer": "ipython3",
   "version": "3.8.18"
  }
 },
 "nbformat": 4,
 "nbformat_minor": 2
}
